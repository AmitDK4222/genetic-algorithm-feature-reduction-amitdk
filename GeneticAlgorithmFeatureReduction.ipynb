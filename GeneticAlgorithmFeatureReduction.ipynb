{
 "cells": [
  {
   "cell_type": "markdown",
   "id": "alone-keeping",
   "metadata": {},
   "source": [
    "# Project Title : \n",
    "### Using Genetic-Algorithms for reducing the number of Features in classification dataset to predict the Target Label"
   ]
  },
  {
   "cell_type": "code",
   "execution_count": 19,
   "id": "static-encyclopedia",
   "metadata": {},
   "outputs": [
    {
     "name": "stdout",
     "output_type": "stream",
     "text": [
      "All required libraries are present !\n"
     ]
    }
   ],
   "source": [
    "import pandas as pd\n",
    "from sklearn.preprocessing import LabelEncoder\n",
    "from sklearn.model_selection import train_test_split\n",
    "from sklearn.linear_model import LogisticRegression\n",
    "from sklearn.metrics import accuracy_score\n",
    "from deap import creator, base, tools, algorithms\n",
    "from scoop import futures\n",
    "import random\n",
    "import numpy\n",
    "from scipy import interpolate\n",
    "import matplotlib.pyplot as plt\n",
    "import warnings\n",
    "warnings.filterwarnings('ignore')\n",
    "print(\"All required libraries are present !\")"
   ]
  },
  {
   "cell_type": "markdown",
   "id": "satisfied-painting",
   "metadata": {},
   "source": [
    "# Pre-processing"
   ]
  },
  {
   "cell_type": "code",
   "execution_count": 20,
   "id": "proprietary-sample",
   "metadata": {},
   "outputs": [
    {
     "name": "stdout",
     "output_type": "stream",
     "text": [
      "       age          job  marital            education  default housing loan  \\\n",
      "0       56    housemaid  married             basic.4y       no      no   no   \n",
      "1       57     services  married          high.school  unknown      no   no   \n",
      "2       37     services  married          high.school       no     yes   no   \n",
      "3       40       admin.  married             basic.6y       no      no   no   \n",
      "4       56     services  married          high.school       no      no  yes   \n",
      "...    ...          ...      ...                  ...      ...     ...  ...   \n",
      "41183   73      retired  married  professional.course       no     yes   no   \n",
      "41184   46  blue-collar  married  professional.course       no      no   no   \n",
      "41185   56      retired  married    university.degree       no     yes   no   \n",
      "41186   44   technician  married  professional.course       no      no   no   \n",
      "41187   74      retired  married  professional.course       no     yes   no   \n",
      "\n",
      "         contact month day_of_week  ...  campaign  pdays  previous  \\\n",
      "0      telephone   may         mon  ...         1    999         0   \n",
      "1      telephone   may         mon  ...         1    999         0   \n",
      "2      telephone   may         mon  ...         1    999         0   \n",
      "3      telephone   may         mon  ...         1    999         0   \n",
      "4      telephone   may         mon  ...         1    999         0   \n",
      "...          ...   ...         ...  ...       ...    ...       ...   \n",
      "41183   cellular   nov         fri  ...         1    999         0   \n",
      "41184   cellular   nov         fri  ...         1    999         0   \n",
      "41185   cellular   nov         fri  ...         2    999         0   \n",
      "41186   cellular   nov         fri  ...         1    999         0   \n",
      "41187   cellular   nov         fri  ...         3    999         1   \n",
      "\n",
      "          poutcome emp.var.rate  cons.price.idx  cons.conf.idx  euribor3m  \\\n",
      "0      nonexistent          1.1          93.994          -36.4      4.857   \n",
      "1      nonexistent          1.1          93.994          -36.4      4.857   \n",
      "2      nonexistent          1.1          93.994          -36.4      4.857   \n",
      "3      nonexistent          1.1          93.994          -36.4      4.857   \n",
      "4      nonexistent          1.1          93.994          -36.4      4.857   \n",
      "...            ...          ...             ...            ...        ...   \n",
      "41183  nonexistent         -1.1          94.767          -50.8      1.028   \n",
      "41184  nonexistent         -1.1          94.767          -50.8      1.028   \n",
      "41185  nonexistent         -1.1          94.767          -50.8      1.028   \n",
      "41186  nonexistent         -1.1          94.767          -50.8      1.028   \n",
      "41187      failure         -1.1          94.767          -50.8      1.028   \n",
      "\n",
      "       nr.employed    y  \n",
      "0           5191.0   no  \n",
      "1           5191.0   no  \n",
      "2           5191.0   no  \n",
      "3           5191.0   no  \n",
      "4           5191.0   no  \n",
      "...            ...  ...  \n",
      "41183       4963.6  yes  \n",
      "41184       4963.6   no  \n",
      "41185       4963.6   no  \n",
      "41186       4963.6  yes  \n",
      "41187       4963.6   no  \n",
      "\n",
      "[41188 rows x 21 columns]\n"
     ]
    }
   ],
   "source": [
    "# Now to read in data from CSV file\n",
    "# Download the dataset from https://archive.ics.uci.edu/ml/datasets/Bank+Marketing\n",
    "# Put the CSV file in folder where there is '*.ipynb' file \n",
    "\n",
    "dfData = pd.read_csv('bank-additional-full.csv', sep=';')\n",
    "print(dfData)"
   ]
  },
  {
   "cell_type": "code",
   "execution_count": 21,
   "id": "powered-patrol",
   "metadata": {},
   "outputs": [],
   "source": [
    "\n",
    "# This step is general representation of all the features\n",
    "# Now we have to encode the classification labels to numbers\n",
    "# Get classes and one hot encoded feature vectors\n",
    "\n",
    "r'''\n",
    "Label Encoder and One Hot Encoder. These two encoders are parts of the SciKit Learn library in Python, and they are used to\n",
    "convert categorical data, or text data, into numbers, which our predictive models can better understand.\n",
    "'''\n",
    "\n",
    "le = LabelEncoder()\n",
    "le.fit(dfData['y'])\n",
    "allClasses = le.transform(dfData['y'])\n",
    "\n",
    "# allFeatures contains all the 20 column except the target column which contains 'Yes' or 'No'\n",
    "allFeatures = dfData.drop(['y'], axis=1)\n",
    "\n"
   ]
  },
  {
   "cell_type": "code",
   "execution_count": 22,
   "id": "sized-ribbon",
   "metadata": {},
   "outputs": [],
   "source": [
    "# Now in this step we form training, test, and validation datasets\n",
    "# We split the data into 80% for training and 20% for validating\n",
    "\n",
    "X_trainAndTest, X_validation, y_trainAndTest, y_validation = train_test_split(allFeatures, allClasses, test_size=0.20, random_state=42)\n",
    "\n",
    "X_train, X_test, y_train, y_test = train_test_split(X_trainAndTest, y_trainAndTest, test_size=0.20, random_state=42)\n"
   ]
  },
  {
   "cell_type": "markdown",
   "id": "adopted-depression",
   "metadata": {},
   "source": [
    "# Fitness Function"
   ]
  },
  {
   "cell_type": "code",
   "execution_count": 23,
   "id": "sustainable-country",
   "metadata": {},
   "outputs": [],
   "source": [
    "# Feature subset fitness function\n",
    "# Function helps us to access the each individual from the population(hall of fame) according to the accuracy that it has achieved\n",
    "# We calculate the accuracy using the Logistic Regression for each individual\n",
    "# Logistic Regression is useful when target attributes are discrete in nature\n",
    "\n",
    "\n",
    "def getFitness(individual, X_train, X_test, y_train, y_test):\n",
    "\n",
    "    # Parse our feature columns that we don't use\n",
    "    # Apply one hot encoding to the features\n",
    "    cols = [index for index in range(len(individual)) if individual[index] == 0]\n",
    "    X_trainParsed = X_train.drop(X_train.columns[cols], axis=1)\n",
    "    X_trainOhFeatures = pd.get_dummies(X_trainParsed)\n",
    "    X_testParsed = X_test.drop(X_test.columns[cols], axis=1)\n",
    "    X_testOhFeatures = pd.get_dummies(X_testParsed)\n",
    "\n",
    "    # Remove any columns that aren't in both the training and test sets\n",
    "    sharedFeatures = set(X_trainOhFeatures.columns) & set(X_testOhFeatures.columns)\n",
    "    removeFromTrain = set(X_trainOhFeatures.columns) - sharedFeatures\n",
    "    removeFromTest = set(X_testOhFeatures.columns) - sharedFeatures\n",
    "    X_trainOhFeatures = X_trainOhFeatures.drop(list(removeFromTrain), axis=1)\n",
    "    X_testOhFeatures = X_testOhFeatures.drop(list(removeFromTest), axis=1)\n",
    "\n",
    "    # Apply logistic regression on the data, and calculate accuracy\n",
    "    clf = LogisticRegression()\n",
    "    clf.fit(X_trainOhFeatures, y_train)\n",
    "    predictions = clf.predict(X_testOhFeatures)\n",
    "    accuracy = accuracy_score(y_test, predictions)\n",
    "\n",
    "    # Return calculated accuracy as fitness\n",
    "    return (accuracy,)"
   ]
  },
  {
   "cell_type": "markdown",
   "id": "thirty-circumstances",
   "metadata": {},
   "source": [
    "# Setting Deap Global Parameters"
   ]
  },
  {
   "cell_type": "code",
   "execution_count": 24,
   "id": "satellite-hypothesis",
   "metadata": {},
   "outputs": [],
   "source": [
    "# We use Deap Framework for Genetic Algorithm\n",
    "\n",
    "#---------------DEAP GLOBAL VARIABLES (viewable by SCOOP)---------------\n",
    "\n",
    "# Create Individuals\n",
    "creator.create(\"FitnessMax\", base.Fitness, weights=(1.0,))\n",
    "creator.create(\"Individual\", list, fitness=creator.FitnessMax)\n",
    "\n",
    "# Create Toolbox\n",
    "toolbox = base.Toolbox()\n",
    "toolbox.register(\"attr_bool\", random.randint, 0, 1)\n",
    "toolbox.register(\"individual\", tools.initRepeat, creator.Individual, toolbox.attr_bool, len(dfData.columns) - 1)\n",
    "toolbox.register(\"population\", tools.initRepeat, list, toolbox.individual)\n",
    "\n",
    "# Continue filling toolbox...\n",
    "toolbox.register(\"evaluate\", getFitness, X_train=X_train, X_test=X_test, y_train=y_train, y_test=y_test)\n",
    "toolbox.register(\"mate\", tools.cxOnePoint)\n",
    "toolbox.register(\"mutate\", tools.mutFlipBit, indpb=0.05)\n",
    "toolbox.register(\"select\", tools.selTournament, tournsize=3)\n",
    "\n",
    "#----------------------------------------------------------------------"
   ]
  },
  {
   "cell_type": "markdown",
   "id": "harmful-haven",
   "metadata": {},
   "source": [
    "# Hall of Fame (Population)"
   ]
  },
  {
   "cell_type": "code",
   "execution_count": 25,
   "id": "personalized-needle",
   "metadata": {},
   "outputs": [],
   "source": [
    "# Each generation has the number of individuals in the population.\n",
    "# The function getHof() 'Get Hall of Fame' returns the list of individuals ordred by their fitness i.e. accuracy \n",
    "def getHof():\n",
    "\n",
    "    # Initialize variables to use eaSimple\n",
    "    numPop = 100\n",
    "    numGen = 10\n",
    "    pop = toolbox.population(n=numPop)\n",
    "    hof = tools.HallOfFame(numPop * numGen)\n",
    "    stats = tools.Statistics(lambda ind: ind.fitness.values)\n",
    "    stats.register(\"avg\", numpy.mean)\n",
    "    stats.register(\"std\", numpy.std)\n",
    "    stats.register(\"min\", numpy.min)\n",
    "    stats.register(\"max\", numpy.max)\n",
    "\n",
    "    # Launch genetic algorithm\n",
    "    pop, log = algorithms.eaSimple(pop, toolbox, cxpb=0.5, mutpb=0.2, ngen=numGen, stats=stats, halloffame=hof, verbose=True)\n",
    "\n",
    "    # Return the hall of fame\n",
    "    return hof"
   ]
  },
  {
   "cell_type": "markdown",
   "id": "suburban-jewel",
   "metadata": {},
   "source": [
    "# Accuracy Matrix"
   ]
  },
  {
   "cell_type": "code",
   "execution_count": 26,
   "id": "infectious-sleeping",
   "metadata": {},
   "outputs": [],
   "source": [
    "# Now we write the function to get the accuracy on test data and accuracy on validation data\n",
    "# Our function does this for all the individuals in the hof i.e. Hall of Fame\n",
    "\n",
    "def getMetrics(hof):\n",
    "\n",
    "    # Get list of percentiles in the hall of fame\n",
    "    percentileList = [i / (len(hof) - 1) for i in range(len(hof))]\n",
    "\n",
    "    # Gather fitness data from each percentile\n",
    "    testAccuracyList = []\n",
    "    validationAccuracyList = []\n",
    "    individualList = []\n",
    "    for individual in hof:\n",
    "        testAccuracy = individual.fitness.values\n",
    "        validationAccuracy = getFitness(individual, X_trainAndTest, X_validation, y_trainAndTest, y_validation)\n",
    "        testAccuracyList.append(testAccuracy[0])\n",
    "        validationAccuracyList.append(validationAccuracy[0])\n",
    "        individualList.append(individual)\n",
    "    testAccuracyList.reverse()\n",
    "    validationAccuracyList.reverse()\n",
    "    return testAccuracyList, validationAccuracyList, individualList, percentileList"
   ]
  },
  {
   "cell_type": "markdown",
   "id": "outside-england",
   "metadata": {},
   "source": [
    "# Execution Starts"
   ]
  },
  {
   "cell_type": "code",
   "execution_count": 27,
   "id": "vital-details",
   "metadata": {},
   "outputs": [
    {
     "name": "stdout",
     "output_type": "stream",
     "text": [
      "\n",
      "Test accuracy with all features: \t0.9106221547799697\n",
      "Validation accuracy with all features: \t0.9121145909201263\n",
      "\n"
     ]
    }
   ],
   "source": [
    "# Firstly , we will apply logistic regression using all the 20 features to acquire a baseline accuracy.\n",
    "\n",
    "individual = [1 for i in range(len(allFeatures.columns))]\n",
    "testAccuracy = getFitness(individual, X_train, X_test, y_train, y_test)\n",
    "validationAccuracy = getFitness(individual, X_trainAndTest, X_validation, y_trainAndTest, y_validation)\n",
    "print('\\nTest accuracy with all features: \\t' + str(testAccuracy[0]))\n",
    "print('Validation accuracy with all features: \\t' + str(validationAccuracy[0]) + '\\n')"
   ]
  },
  {
   "cell_type": "code",
   "execution_count": 34,
   "id": "controversial-crowd",
   "metadata": {},
   "outputs": [
    {
     "name": "stdout",
     "output_type": "stream",
     "text": [
      "gen\tnevals\tavg     \tstd       \tmin     \tmax     \n",
      "0  \t100   \t0.903666\t0.00720489\t0.887405\t0.913961\n",
      "1  \t69    \t0.909628\t0.00374662\t0.894689\t0.914264\n",
      "2  \t56    \t0.911542\t0.00197523\t0.904401\t0.914568\n",
      "3  \t68    \t0.912338\t0.00265148\t0.899393\t0.914871\n",
      "4  \t57    \t0.912698\t0.00234169\t0.899241\t0.914871\n",
      "5  \t65    \t0.91297 \t0.00254167\t0.899393\t0.914871\n",
      "6  \t46    \t0.913083\t0.00376105\t0.887102\t0.914871\n",
      "7  \t62    \t0.913557\t0.00198702\t0.902276\t0.91563 \n",
      "8  \t63    \t0.913651\t0.00238128\t0.896662\t0.91563 \n",
      "9  \t59    \t0.914164\t0.00147766\t0.903338\t0.91563 \n",
      "10 \t56    \t0.914038\t0.00255775\t0.9     \t0.91563 \n"
     ]
    }
   ],
   "source": [
    "\n",
    "# Now, we will apply a genetic algorithm to choose a subset of features that gives a better accuracy than the baseline.\n",
    "\n",
    "hof = getHof()\n",
    "testAccuracyList, validationAccuracyList, individualList, percentileList = getMetrics(hof)\n"
   ]
  },
  {
   "cell_type": "code",
   "execution_count": 43,
   "id": "attended-salvation",
   "metadata": {},
   "outputs": [
    {
     "name": "stdout",
     "output_type": "stream",
     "text": [
      "\n",
      "--------------------------------------------------Optimal Feature Subset(s)----------------------------------------------------\n",
      "\n",
      "Percentile: \t\t\t0.7939262472885033\n",
      "Validation Accuracy: \t\t0.9134498664724447\n",
      "Individual: \t[1, 0, 1, 1, 0, 1, 1, 0, 0, 1, 1, 0, 0, 0, 1, 1, 0, 0, 1, 0]\n",
      "Number Features In Subset: \t10\n",
      "Feature Subset: ['age', 'marital', 'education', 'housing', 'loan', 'day_of_week', 'duration', 'poutcome', 'emp.var.rate', 'euribor3m']\n",
      "\n",
      "-------------------------------------------------------------------------------------------------------------------------------\n",
      "\n"
     ]
    }
   ],
   "source": [
    "# Now we get a list of subsets that performed best on validation data\n",
    "\n",
    "maxValAccSubsetIndicies = [index for index in range(len(validationAccuracyList)) if validationAccuracyList[index] == max(validationAccuracyList)]\n",
    "maxValIndividuals = [individualList[index] for index in maxValAccSubsetIndicies]\n",
    "maxValSubsets = [[list(allFeatures)[index] for index in range(len(individual)) if individual[index] == 1] for individual in maxValIndividuals]\n",
    "\n",
    "print('\\n--------------------------------------------------Optimal Feature Subset(s)----------------------------------------------------\\n')\n",
    "for index in range(len(maxValAccSubsetIndicies)):\n",
    "    print('Percentile: \\t\\t\\t' + str(percentileList[maxValAccSubsetIndicies[index]]))\n",
    "    print('Validation Accuracy: \\t\\t' + str(validationAccuracyList[maxValAccSubsetIndicies[index]]))\n",
    "    print('Individual: \\t' + str(maxValIndividuals[index]))\n",
    "    print('Number Features In Subset: \\t' + str(len(maxValSubsets[index])))\n",
    "    print('Feature Subset: ' + str(maxValSubsets[index]))\n",
    "    pass\n",
    "print('\\n-------------------------------------------------------------------------------------------------------------------------------\\n')\n"
   ]
  },
  {
   "cell_type": "markdown",
   "id": "found-weight",
   "metadata": {},
   "source": [
    "# Data Visualization"
   ]
  },
  {
   "cell_type": "code",
   "execution_count": 36,
   "id": "weekly-disposal",
   "metadata": {},
   "outputs": [],
   "source": [
    "'''\n",
    "Now, we plot the test and validation classification accuracy to see how these numbers change as we move from our worst feature\n",
    "subsets to the best feature subsets found by the genetic algorithm.\n",
    "'''\n",
    "# Calculate best fit line for validation classification accuracy (non-linear)\n",
    "tck = interpolate.splrep(percentileList, validationAccuracyList, s=5.0)\n",
    "ynew = interpolate.splev(percentileList, tck)"
   ]
  },
  {
   "cell_type": "markdown",
   "id": "proper-actress",
   "metadata": {},
   "source": [
    "# Testing Data Scatter Plot"
   ]
  },
  {
   "cell_type": "code",
   "execution_count": 40,
   "id": "liked-attention",
   "metadata": {},
   "outputs": [
    {
     "data": {
      "image/png": "[encoded data removed]",
      "text/plain": [
       "<Figure size 432x288 with 1 Axes>"
      ]
     },
     "metadata": {
      "needs_background": "light"
     },
     "output_type": "display_data"
    }
   ],
   "source": [
    "g = plt.figure(3)\n",
    "plt.scatter(percentileList, testAccuracyList)\n",
    "plt.title('Test Set Classification Accuracy vs. Continuum')\n",
    "plt.xlabel('Population Ordered By Increasing Test Set Accuracy')\n",
    "plt.ylabel('Test Set Accuracy')\n",
    "g.show()"
   ]
  },
  {
   "cell_type": "markdown",
   "id": "future-carbon",
   "metadata": {},
   "source": [
    "# Validation Data Scatter Plot"
   ]
  },
  {
   "cell_type": "code",
   "execution_count": 38,
   "id": "supported-updating",
   "metadata": {},
   "outputs": [
    {
     "data": {
      "image/png": "[encoded data removed]",
      "text/plain": [
       "<Figure size 432x288 with 1 Axes>"
      ]
     },
     "metadata": {
      "needs_background": "light"
     },
     "output_type": "display_data"
    }
   ],
   "source": [
    "f = plt.figure(2)\n",
    "plt.scatter(percentileList, validationAccuracyList)\n",
    "plt.title('Validation Set Classification Accuracy vs. Continuum')\n",
    "plt.xlabel('Population Ordered By Increasing Test Set Accuracy')\n",
    "plt.ylabel('Validation Set Accuracy')\n",
    "f.show()"
   ]
  },
  {
   "cell_type": "markdown",
   "id": "technical-latex",
   "metadata": {},
   "source": [
    "# Validation Data Scatter Plot using Cubic-Spline Interpolation"
   ]
  },
  {
   "cell_type": "code",
   "execution_count": 39,
   "id": "exceptional-popularity",
   "metadata": {},
   "outputs": [
    {
     "data": {
      "image/png": "[encoded data removed]",
      "text/plain": [
       "<Figure size 432x288 with 1 Axes>"
      ]
     },
     "metadata": {
      "needs_background": "light"
     },
     "output_type": "display_data"
    }
   ],
   "source": [
    "e = plt.figure(1)\n",
    "plt.plot(percentileList, validationAccuracyList, marker='o', color='r')\n",
    "plt.plot(percentileList, ynew, color='b')\n",
    "plt.title('Validation Set Classification Accuracy vs. \\n Continuum with Cubic-Spline Interpolation')\n",
    "plt.xlabel('Population Ordered By Increasing Test Set Accuracy')\n",
    "plt.ylabel('Validation Set Accuracy')\n",
    "e.show()"
   ]
  },
  {
   "cell_type": "markdown",
   "id": "electric-roller",
   "metadata": {},
   "source": [
    "# Conclusion : \n",
    "### Using Genetic-Algorithms I have reduced the number of Required Features by ~50% to predict the Target Label. Genetic-Algorithm has successfully filtered  most prominent featues from dataset which are must to predict the Target Label"
   ]
  },
  {
   "cell_type": "code",
   "execution_count": null,
   "id": "addressed-orientation",
   "metadata": {},
   "outputs": [],
   "source": []
  }
 ],
 "metadata": {
  "kernelspec": {
   "display_name": "Python 3",
   "language": "python",
   "name": "python3"
  },
  "language_info": {
   "codemirror_mode": {
    "name": "ipython",
    "version": 3
   },
   "file_extension": ".py",
   "mimetype": "text/x-python",
   "name": "python",
   "nbconvert_exporter": "python",
   "pygments_lexer": "ipython3",
   "version": "3.8.8"
  }
 },
 "nbformat": 4,
 "nbformat_minor": 5
}
